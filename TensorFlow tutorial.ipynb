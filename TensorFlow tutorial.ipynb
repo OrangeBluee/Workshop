{
 "cells": [
  {
   "cell_type": "markdown",
   "metadata": {},
   "source": [
    "# Install TensforFlow with conda environment\n",
    "\n",
    "Create a conda environment named tensorflow to run a version of Python by invoking the following command:\n",
    "\n",
    "conda create -n tensorflow python=2.7 # or python=3.3, etc.\n",
    "\n",
    "Activate the conda environment by issuing the following command:\n",
    "\n",
    "source activate tensorflow\n",
    " (tensorflow)$  \n",
    " Your prompt should change \n",
    "\n",
    "Issue a command of the following format to install TensorFlow inside your conda environment:\n",
    "\n",
    "(tensorflow)$ pip install --ignore-installed --upgrade tfBinaryURL\n",
    "\n",
    "where tfBinaryURL is the URL of the TensorFlow Python package. For example, the following command installs the CPU-only version of TensorFlow for Python 3.6:\n",
    "\n",
    "(tensorflow)$ pip install --ignore-installed --upgrade https://storage.googleapis.com/tensorflow/linux/cpu/tensorflow-1.4.0-cp36-cp36m-linux_x86_64.whl\n",
    "\n",
   ]
  },
  
 },

}
